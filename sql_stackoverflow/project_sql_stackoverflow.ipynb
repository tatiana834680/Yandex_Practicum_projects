{
 "cells": [
  {
   "cell_type": "markdown",
   "metadata": {},
   "source": [
    "# Анализ SQL - запросов к БД StackOverflow"
   ]
  },
  {
   "cell_type": "code",
   "execution_count": 1,
   "metadata": {
    "id": "nlZBlglMDWKe"
   },
   "outputs": [],
   "source": [
    "import pandas as pd\n",
    "import matplotlib.pyplot as plt\n",
    "from sqlalchemy import create_engine \n",
    "import seaborn as sns"
   ]
  },
  {
   "cell_type": "markdown",
   "metadata": {
    "id": "XnOE3n28DWKg"
   },
   "source": [
    "### Конфигурация для подключения к базе данных"
   ]
  },
  {
   "cell_type": "code",
   "execution_count": 2,
   "metadata": {
    "id": "6p-yGp7qDWKg"
   },
   "outputs": [],
   "source": [
    "db_config = {\n",
    "    'user': '***', # имя пользователя\n",
    "    'pwd': '***',, # пароль\n",
    "    'host': '***',,\n",
    "    'port': ****, # порт подключения\n",
    "    'db': '***' # название базы данных\n",
    "}  \n",
    "\n",
    "connection_string = 'postgresql://{}:{}@{}:{}/{}'.format(\n",
    "    db_config['user'],\n",
    "    db_config['pwd'],\n",
    "    db_config['host'],\n",
    "    db_config['port'],\n",
    "    db_config['db'],\n",
    ")"
   ]
  },
  {
   "cell_type": "markdown",
   "metadata": {
    "id": "2Rg8ZpS0DWKh"
   },
   "source": [
    "Создание подключения:"
   ]
  },
  {
   "cell_type": "code",
   "execution_count": 3,
   "metadata": {
    "id": "DamCUTR6DWKi"
   },
   "outputs": [],
   "source": [
    "engine = create_engine(connection_string) "
   ]
  },
  {
   "cell_type": "markdown",
   "metadata": {
    "id": "gnBMXkDBDWKm"
   },
   "source": [
    "# Запрос 1"
   ]
  },
  {
   "cell_type": "markdown",
   "metadata": {
    "id": "vHsfOrrNDWKn"
   },
   "source": [
    "Вывести общую сумму просмотров постов за каждый месяц 2008 года. Если данных за какой-либо месяц в базе нет, такой месяц можно пропустить. Результат отсортировать по убыванию общего количества просмотров."
   ]
  },
  {
   "cell_type": "code",
   "execution_count": 6,
   "metadata": {
    "id": "eWvykcXTDWKo"
   },
   "outputs": [
    {
     "data": {
      "text/html": [
       "<div>\n",
       "<style scoped>\n",
       "    .dataframe tbody tr th:only-of-type {\n",
       "        vertical-align: middle;\n",
       "    }\n",
       "\n",
       "    .dataframe tbody tr th {\n",
       "        vertical-align: top;\n",
       "    }\n",
       "\n",
       "    .dataframe thead th {\n",
       "        text-align: right;\n",
       "    }\n",
       "</style>\n",
       "<table border=\"1\" class=\"dataframe\">\n",
       "  <thead>\n",
       "    <tr style=\"text-align: right;\">\n",
       "      <th></th>\n",
       "      <th>month_date</th>\n",
       "      <th>total_views</th>\n",
       "    </tr>\n",
       "  </thead>\n",
       "  <tbody>\n",
       "    <tr>\n",
       "      <th>0</th>\n",
       "      <td>2008-09-01</td>\n",
       "      <td>452928568</td>\n",
       "    </tr>\n",
       "    <tr>\n",
       "      <th>1</th>\n",
       "      <td>2008-10-01</td>\n",
       "      <td>365400138</td>\n",
       "    </tr>\n",
       "    <tr>\n",
       "      <th>2</th>\n",
       "      <td>2008-11-01</td>\n",
       "      <td>221759651</td>\n",
       "    </tr>\n",
       "    <tr>\n",
       "      <th>3</th>\n",
       "      <td>2008-12-01</td>\n",
       "      <td>197792841</td>\n",
       "    </tr>\n",
       "    <tr>\n",
       "      <th>4</th>\n",
       "      <td>2008-08-01</td>\n",
       "      <td>131367083</td>\n",
       "    </tr>\n",
       "    <tr>\n",
       "      <th>5</th>\n",
       "      <td>2008-07-01</td>\n",
       "      <td>669895</td>\n",
       "    </tr>\n",
       "  </tbody>\n",
       "</table>\n",
       "</div>"
      ],
      "text/plain": [
       "   month_date  total_views\n",
       "0  2008-09-01    452928568\n",
       "1  2008-10-01    365400138\n",
       "2  2008-11-01    221759651\n",
       "3  2008-12-01    197792841\n",
       "4  2008-08-01    131367083\n",
       "5  2008-07-01       669895"
      ]
     },
     "execution_count": 6,
     "metadata": {},
     "output_type": "execute_result"
    }
   ],
   "source": [
    "query_1 = '''\n",
    "SELECT DISTINCT DATE_TRUNC('month', creation_date) :: date AS month_date,\n",
    "       SUM(views_count) OVER (PARTITION BY DATE_TRUNC('month', creation_date) :: date) AS total_views\n",
    "FROM stackoverflow.posts\n",
    "WHERE DATE_TRUNC('year', creation_date) :: date = '2008-01-01'\n",
    "ORDER BY total_views DESC\n",
    "'''\n",
    "\n",
    "views_df = pd.read_sql_query(query_1, con=engine) \n",
    "views_df"
   ]
  },
  {
   "cell_type": "code",
   "execution_count": 7,
   "metadata": {
    "id": "luxSj17oDWKq"
   },
   "outputs": [
    {
     "data": {
      "image/png": "[encoded data removed]",
      "text/plain": [
       "<Figure size 1080x360 with 1 Axes>"
      ]
     },
     "metadata": {},
     "output_type": "display_data"
    }
   ],
   "source": [
    "sns.set(rc={'figure.figsize':(15,5)})\n",
    "sns.lineplot(data = views_df.sort_values('month_date'), x = 'month_date', y = 'total_views')\n",
    "plt.title('Просмотры постов в 2008 году')\n",
    "plt.xlabel('Период')\n",
    "plt.ylabel('Количество просмотров')\n",
    "plt.show()"
   ]
  },
  {
   "cell_type": "markdown",
   "metadata": {},
   "source": [
    "Количество просмотров постов в летние месяцы гораздо ниже, чем осенью/зимой. Пик просмотров в 2008г. наблюдался в сентябре. Это можно объяснить учебной/рабочей активностью пользователей. Лето - сезон каникул/отпусков, с осени все возвращаются в рабочий режим, и количество просмотров постов возрастает. К зиме активность пользователей падает."
   ]
  },
  {
   "cell_type": "markdown",
   "metadata": {
    "id": "FziIXkn5DWKr"
   },
   "source": [
    "# Запрос 2"
   ]
  },
  {
   "cell_type": "markdown",
   "metadata": {
    "id": "fTGESZvYDWKr"
   },
   "source": [
    "Вывести имена самых активных пользователей, которые в первый месяц после регистрации (включая день регистрации) дали больше 100 ответов. Вопросы, которые задавали пользователи, не учитывать. Для каждого имени пользователя вывести количество уникальных значений `user_id`. Отсортировать результат по полю с именами в лексикографическом порядке."
   ]
  },
  {
   "cell_type": "code",
   "execution_count": 8,
   "metadata": {
    "id": "fIO-y-YjDWKt"
   },
   "outputs": [
    {
     "data": {
      "text/html": [
       "<div>\n",
       "<style scoped>\n",
       "    .dataframe tbody tr th:only-of-type {\n",
       "        vertical-align: middle;\n",
       "    }\n",
       "\n",
       "    .dataframe tbody tr th {\n",
       "        vertical-align: top;\n",
       "    }\n",
       "\n",
       "    .dataframe thead th {\n",
       "        text-align: right;\n",
       "    }\n",
       "</style>\n",
       "<table border=\"1\" class=\"dataframe\">\n",
       "  <thead>\n",
       "    <tr style=\"text-align: right;\">\n",
       "      <th></th>\n",
       "      <th>display_name</th>\n",
       "      <th>count_id</th>\n",
       "    </tr>\n",
       "  </thead>\n",
       "  <tbody>\n",
       "    <tr>\n",
       "      <th>0</th>\n",
       "      <td>1800 INFORMATION</td>\n",
       "      <td>1</td>\n",
       "    </tr>\n",
       "    <tr>\n",
       "      <th>1</th>\n",
       "      <td>Adam Bellaire</td>\n",
       "      <td>1</td>\n",
       "    </tr>\n",
       "    <tr>\n",
       "      <th>2</th>\n",
       "      <td>Adam Davis</td>\n",
       "      <td>1</td>\n",
       "    </tr>\n",
       "    <tr>\n",
       "      <th>3</th>\n",
       "      <td>Adam Liss</td>\n",
       "      <td>1</td>\n",
       "    </tr>\n",
       "    <tr>\n",
       "      <th>4</th>\n",
       "      <td>Amy B</td>\n",
       "      <td>1</td>\n",
       "    </tr>\n",
       "    <tr>\n",
       "      <th>...</th>\n",
       "      <td>...</td>\n",
       "      <td>...</td>\n",
       "    </tr>\n",
       "    <tr>\n",
       "      <th>60</th>\n",
       "      <td>lomaxx</td>\n",
       "      <td>1</td>\n",
       "    </tr>\n",
       "    <tr>\n",
       "      <th>61</th>\n",
       "      <td>mattlant</td>\n",
       "      <td>1</td>\n",
       "    </tr>\n",
       "    <tr>\n",
       "      <th>62</th>\n",
       "      <td>paxdiablo</td>\n",
       "      <td>1</td>\n",
       "    </tr>\n",
       "    <tr>\n",
       "      <th>63</th>\n",
       "      <td>tvanfosson</td>\n",
       "      <td>1</td>\n",
       "    </tr>\n",
       "    <tr>\n",
       "      <th>64</th>\n",
       "      <td>tzot</td>\n",
       "      <td>1</td>\n",
       "    </tr>\n",
       "  </tbody>\n",
       "</table>\n",
       "<p>65 rows × 2 columns</p>\n",
       "</div>"
      ],
      "text/plain": [
       "        display_name  count_id\n",
       "0   1800 INFORMATION         1\n",
       "1      Adam Bellaire         1\n",
       "2         Adam Davis         1\n",
       "3          Adam Liss         1\n",
       "4              Amy B         1\n",
       "..               ...       ...\n",
       "60            lomaxx         1\n",
       "61          mattlant         1\n",
       "62         paxdiablo         1\n",
       "63        tvanfosson         1\n",
       "64              tzot         1\n",
       "\n",
       "[65 rows x 2 columns]"
      ]
     },
     "execution_count": 8,
     "metadata": {},
     "output_type": "execute_result"
    }
   ],
   "source": [
    "query_2 = '''\n",
    "WITH active_users as   (SELECT DISTINCT u.display_name,\n",
    "\t\t\t\t\t\t\t\t\t  COUNT(p.id) AS count_answers,\n",
    "\t\t\t\t\t\t\t\t\t  COUNT(DISTINCT p.user_id) AS count_id\n",
    "\t\t\t\t\t\tFROM stackoverflow.users u\n",
    "\t\t\t\t\t\tJOIN stackoverflow.posts p ON u.id = p.user_id \n",
    "\t\t\t\t\t\tJOIN stackoverflow.post_types pt ON pt.id = p.post_type_id \n",
    "\t\t\t\t\t\tWHERE pt.type = 'Answer' AND \n",
    "\t\t\t\t\t\t\t  DATE_TRUNC('day', p.creation_date) <= DATE_TRUNC('day', u.creation_date) + INTERVAL '1 month'\n",
    "\t\t\t\t\t\tGROUP BY u.display_name, p.user_id\t\n",
    "\t\t\t\t\t\tHAVING COUNT(p.id) > 100)\n",
    "SELECT display_name,\n",
    "\t   count_id\n",
    "FROM active_users\n",
    "ORDER BY display_name\n",
    "'''\n",
    "\n",
    "active_users_df = pd.read_sql_query(query_2, con=engine) \n",
    "active_users_df"
   ]
  },
  {
   "cell_type": "markdown",
   "metadata": {
    "id": "CEIGGQ6ODWKy"
   },
   "source": [
    "65 пользователей дали более 100 ответов за месяц. У всех активных пользователей есть только одно уникальное значение user_id. Скорее всего, сайт не позволяет создавать пользователей с одинаковыми именами. Среди пользователей встречаются интересные никнеймы, например, 1800 INFORMATION, tzot и др., что показывает, что особых ограничений к имени нет."
   ]
  },
  {
   "cell_type": "markdown",
   "metadata": {
    "id": "JhM2xXj5DWKu"
   },
   "source": [
    "# Запрос 3"
   ]
  },
  {
   "cell_type": "markdown",
   "metadata": {
    "id": "IS6xPqyyDWKu"
   },
   "source": [
    "Вывести количество постов за 2008 год по месяцам. Отобрать посты от пользователей, которые зарегистрировались в сентябре 2008 года и сделали хотя бы один пост в декабре того же года. Отсортировать таблицу по значению месяца по убыванию."
   ]
  },
  {
   "cell_type": "code",
   "execution_count": 9,
   "metadata": {
    "id": "kVu0FB8WDWKv"
   },
   "outputs": [
    {
     "data": {
      "text/html": [
       "<div>\n",
       "<style scoped>\n",
       "    .dataframe tbody tr th:only-of-type {\n",
       "        vertical-align: middle;\n",
       "    }\n",
       "\n",
       "    .dataframe tbody tr th {\n",
       "        vertical-align: top;\n",
       "    }\n",
       "\n",
       "    .dataframe thead th {\n",
       "        text-align: right;\n",
       "    }\n",
       "</style>\n",
       "<table border=\"1\" class=\"dataframe\">\n",
       "  <thead>\n",
       "    <tr style=\"text-align: right;\">\n",
       "      <th></th>\n",
       "      <th>month_</th>\n",
       "      <th>total_posts</th>\n",
       "    </tr>\n",
       "  </thead>\n",
       "  <tbody>\n",
       "    <tr>\n",
       "      <th>0</th>\n",
       "      <td>2008-12-01</td>\n",
       "      <td>17641</td>\n",
       "    </tr>\n",
       "    <tr>\n",
       "      <th>1</th>\n",
       "      <td>2008-11-01</td>\n",
       "      <td>18294</td>\n",
       "    </tr>\n",
       "    <tr>\n",
       "      <th>2</th>\n",
       "      <td>2008-10-01</td>\n",
       "      <td>27171</td>\n",
       "    </tr>\n",
       "    <tr>\n",
       "      <th>3</th>\n",
       "      <td>2008-09-01</td>\n",
       "      <td>24870</td>\n",
       "    </tr>\n",
       "    <tr>\n",
       "      <th>4</th>\n",
       "      <td>2008-08-01</td>\n",
       "      <td>32</td>\n",
       "    </tr>\n",
       "  </tbody>\n",
       "</table>\n",
       "</div>"
      ],
      "text/plain": [
       "       month_  total_posts\n",
       "0  2008-12-01        17641\n",
       "1  2008-11-01        18294\n",
       "2  2008-10-01        27171\n",
       "3  2008-09-01        24870\n",
       "4  2008-08-01           32"
      ]
     },
     "execution_count": 9,
     "metadata": {},
     "output_type": "execute_result"
    }
   ],
   "source": [
    "query_3 = '''\n",
    "SELECT  DISTINCT DATE_TRUNC('month', p.creation_date) :: date AS month_,\n",
    "        COUNT(p.id) OVER (PARTITION BY DATE_TRUNC('month', p.creation_date) :: date) AS total_posts\n",
    "FROM stackoverflow.posts p\n",
    "JOIN stackoverflow.users u ON u.id = p.user_id\n",
    "WHERE DATE_TRUNC('year', p.creation_date) :: date = '2008-01-01' AND \n",
    "      u.id IN  (SELECT DISTINCT u.id\n",
    "\t\t\t\tFROM stackoverflow.users u \n",
    "\t\t\t\tJOIN stackoverflow.posts p ON u.id = p.user_id\n",
    "\t\t\t\tWHERE DATE_TRUNC('month', u.creation_date) :: date = '2008-09-01' AND\n",
    "\t\t\t\t\t  DATE_TRUNC('month', p.creation_date) :: date = '2008-12-01')\t\t\t  \n",
    "ORDER BY month_ DESC\n",
    "'''\n",
    "\n",
    "september_users_df = pd.read_sql_query(query_3, con=engine) \n",
    "september_users_df"
   ]
  },
  {
   "cell_type": "code",
   "execution_count": 10,
   "metadata": {
    "id": "MMVIz4yMlKpN"
   },
   "outputs": [
    {
     "data": {
      "image/png": "[encoded data removed]",
      "text/plain": [
       "<Figure size 1080x360 with 1 Axes>"
      ]
     },
     "metadata": {},
     "output_type": "display_data"
    }
   ],
   "source": [
    "sns.set(rc={'figure.figsize':(15,5)})\n",
    "sns.lineplot(data = september_users_df.sort_values('month_'), x = 'month_', y = 'total_posts')\n",
    "plt.title('Количество постов за 2008г. от пользователей, зарегистрировавшихся в сентябре 2008г')\n",
    "plt.xlabel('Период')\n",
    "plt.ylabel('Количество постов')\n",
    "plt.show()"
   ]
  },
  {
   "cell_type": "markdown",
   "metadata": {},
   "source": [
    "В данных имеется явная аномалия: пользователи зарегистрированы только в сентябре 2008г., а 32 поста от них в базе датируются мартом 2008г. Возможно, произошла техническая ошибка при записи данных."
   ]
  },
  {
   "cell_type": "markdown",
   "metadata": {
    "id": "5Pcizm0DDWKz"
   },
   "source": [
    "# Запрос 4"
   ]
  },
  {
   "cell_type": "markdown",
   "metadata": {
    "id": "KUZPF6vHDWKz"
   },
   "source": [
    "Используя данные о постах, вывести несколько полей:\n",
    "\n",
    "- идентификатор пользователя, который написал пост;\n",
    "- дата создания поста;\n",
    "- количество просмотров у текущего поста;\n",
    "- сумму просмотров постов автора с накоплением.\n",
    "\n",
    "Данные в таблице отсортировать по возрастанию идентификаторов пользователей, а данные об одном и том же пользователе — по возрастанию даты создания поста."
   ]
  },
  {
   "cell_type": "code",
   "execution_count": 11,
   "metadata": {
    "id": "hDoJhMzfDWK0"
   },
   "outputs": [
    {
     "data": {
      "text/html": [
       "<div>\n",
       "<style scoped>\n",
       "    .dataframe tbody tr th:only-of-type {\n",
       "        vertical-align: middle;\n",
       "    }\n",
       "\n",
       "    .dataframe tbody tr th {\n",
       "        vertical-align: top;\n",
       "    }\n",
       "\n",
       "    .dataframe thead th {\n",
       "        text-align: right;\n",
       "    }\n",
       "</style>\n",
       "<table border=\"1\" class=\"dataframe\">\n",
       "  <thead>\n",
       "    <tr style=\"text-align: right;\">\n",
       "      <th></th>\n",
       "      <th>user_id</th>\n",
       "      <th>creation_date</th>\n",
       "      <th>views_count</th>\n",
       "      <th>cumulative_count</th>\n",
       "    </tr>\n",
       "  </thead>\n",
       "  <tbody>\n",
       "    <tr>\n",
       "      <th>0</th>\n",
       "      <td>1</td>\n",
       "      <td>2008-07-31 23:41:00</td>\n",
       "      <td>480476</td>\n",
       "      <td>480476</td>\n",
       "    </tr>\n",
       "    <tr>\n",
       "      <th>1</th>\n",
       "      <td>1</td>\n",
       "      <td>2008-07-31 23:55:38</td>\n",
       "      <td>136033</td>\n",
       "      <td>616509</td>\n",
       "    </tr>\n",
       "    <tr>\n",
       "      <th>2</th>\n",
       "      <td>1</td>\n",
       "      <td>2008-07-31 23:56:41</td>\n",
       "      <td>0</td>\n",
       "      <td>616509</td>\n",
       "    </tr>\n",
       "    <tr>\n",
       "      <th>3</th>\n",
       "      <td>1</td>\n",
       "      <td>2008-08-04 02:45:08</td>\n",
       "      <td>0</td>\n",
       "      <td>616509</td>\n",
       "    </tr>\n",
       "    <tr>\n",
       "      <th>4</th>\n",
       "      <td>1</td>\n",
       "      <td>2008-08-04 04:31:03</td>\n",
       "      <td>0</td>\n",
       "      <td>616509</td>\n",
       "    </tr>\n",
       "    <tr>\n",
       "      <th>...</th>\n",
       "      <td>...</td>\n",
       "      <td>...</td>\n",
       "      <td>...</td>\n",
       "      <td>...</td>\n",
       "    </tr>\n",
       "    <tr>\n",
       "      <th>243791</th>\n",
       "      <td>5696608</td>\n",
       "      <td>2008-12-23 16:00:37</td>\n",
       "      <td>0</td>\n",
       "      <td>2804</td>\n",
       "    </tr>\n",
       "    <tr>\n",
       "      <th>243792</th>\n",
       "      <td>5696608</td>\n",
       "      <td>2008-12-23 17:35:09</td>\n",
       "      <td>0</td>\n",
       "      <td>2804</td>\n",
       "    </tr>\n",
       "    <tr>\n",
       "      <th>243793</th>\n",
       "      <td>5696608</td>\n",
       "      <td>2008-12-24 01:02:48</td>\n",
       "      <td>0</td>\n",
       "      <td>2804</td>\n",
       "    </tr>\n",
       "    <tr>\n",
       "      <th>243794</th>\n",
       "      <td>5696608</td>\n",
       "      <td>2008-12-30 14:34:45</td>\n",
       "      <td>0</td>\n",
       "      <td>2804</td>\n",
       "    </tr>\n",
       "    <tr>\n",
       "      <th>243795</th>\n",
       "      <td>5696608</td>\n",
       "      <td>2008-12-30 16:32:12</td>\n",
       "      <td>0</td>\n",
       "      <td>2804</td>\n",
       "    </tr>\n",
       "  </tbody>\n",
       "</table>\n",
       "<p>243796 rows × 4 columns</p>\n",
       "</div>"
      ],
      "text/plain": [
       "        user_id       creation_date  views_count  cumulative_count\n",
       "0             1 2008-07-31 23:41:00       480476            480476\n",
       "1             1 2008-07-31 23:55:38       136033            616509\n",
       "2             1 2008-07-31 23:56:41            0            616509\n",
       "3             1 2008-08-04 02:45:08            0            616509\n",
       "4             1 2008-08-04 04:31:03            0            616509\n",
       "...         ...                 ...          ...               ...\n",
       "243791  5696608 2008-12-23 16:00:37            0              2804\n",
       "243792  5696608 2008-12-23 17:35:09            0              2804\n",
       "243793  5696608 2008-12-24 01:02:48            0              2804\n",
       "243794  5696608 2008-12-30 14:34:45            0              2804\n",
       "243795  5696608 2008-12-30 16:32:12            0              2804\n",
       "\n",
       "[243796 rows x 4 columns]"
      ]
     },
     "execution_count": 11,
     "metadata": {},
     "output_type": "execute_result"
    }
   ],
   "source": [
    "query_4 = '''\n",
    "SELECT DISTINCT user_id,\n",
    "\t\t\t    creation_date,\n",
    "\t\t\t    views_count,\n",
    "\t\t\t    SUM(views_count) OVER (PARTITION BY user_id ORDER BY creation_date) cumulative_count\n",
    "FROM stackoverflow.posts p \n",
    "ORDER BY user_id, creation_date\n",
    "'''\n",
    "\n",
    "cum_count_views_df = pd.read_sql_query(query_4, con=engine) \n",
    "cum_count_views_df"
   ]
  },
  {
   "cell_type": "markdown",
   "metadata": {
    "id": "N0kHRHvIDWK2"
   },
   "source": [
    "# Запрос 5"
   ]
  },
  {
   "cell_type": "markdown",
   "metadata": {
    "id": "gBgvmPtODWK2"
   },
   "source": [
    "Найти среднее количество постов пользователей в день за август 2008 года. Отобрать данные о пользователях, которые опубликовали больше 120 постов за август. Дни без публикаций не учитывать. \n",
    "\n",
    "Отсортировать результат по возрастанию среднего количества постов."
   ]
  },
  {
   "cell_type": "code",
   "execution_count": 12,
   "metadata": {
    "id": "YFyPNz5GDWK3"
   },
   "outputs": [
    {
     "data": {
      "text/html": [
       "<div>\n",
       "<style scoped>\n",
       "    .dataframe tbody tr th:only-of-type {\n",
       "        vertical-align: middle;\n",
       "    }\n",
       "\n",
       "    .dataframe tbody tr th {\n",
       "        vertical-align: top;\n",
       "    }\n",
       "\n",
       "    .dataframe thead th {\n",
       "        text-align: right;\n",
       "    }\n",
       "</style>\n",
       "<table border=\"1\" class=\"dataframe\">\n",
       "  <thead>\n",
       "    <tr style=\"text-align: right;\">\n",
       "      <th></th>\n",
       "      <th>user_id</th>\n",
       "      <th>avg_daily</th>\n",
       "    </tr>\n",
       "  </thead>\n",
       "  <tbody>\n",
       "    <tr>\n",
       "      <th>0</th>\n",
       "      <td>116</td>\n",
       "      <td>4.777778</td>\n",
       "    </tr>\n",
       "    <tr>\n",
       "      <th>1</th>\n",
       "      <td>234</td>\n",
       "      <td>5.208333</td>\n",
       "    </tr>\n",
       "    <tr>\n",
       "      <th>2</th>\n",
       "      <td>91</td>\n",
       "      <td>5.681818</td>\n",
       "    </tr>\n",
       "    <tr>\n",
       "      <th>3</th>\n",
       "      <td>905</td>\n",
       "      <td>7.000000</td>\n",
       "    </tr>\n",
       "    <tr>\n",
       "      <th>4</th>\n",
       "      <td>383</td>\n",
       "      <td>7.277778</td>\n",
       "    </tr>\n",
       "  </tbody>\n",
       "</table>\n",
       "</div>"
      ],
      "text/plain": [
       "   user_id  avg_daily\n",
       "0      116   4.777778\n",
       "1      234   5.208333\n",
       "2       91   5.681818\n",
       "3      905   7.000000\n",
       "4      383   7.277778"
      ]
     },
     "execution_count": 12,
     "metadata": {},
     "output_type": "execute_result"
    }
   ],
   "source": [
    "query_5 = '''\n",
    "WITH temp_table AS (SELECT p.user_id,\n",
    "\t   \t\t\t\t\t   p.creation_date :: date,\n",
    "\t   \t\t\t\t\t   COUNT(p.id) AS count_posts\n",
    "\t\t\t\t\tFROM stackoverflow.posts p\n",
    "\t\t\t\t\tWHERE date_trunc('month', p.creation_date) :: date = '2008-08-01' AND \n",
    "\t\t\t\t\t\t  p.user_id IN (SELECT u.id\n",
    "\t\t\t\t\t\t\t\t\t\tFROM stackoverflow.posts p\n",
    "\t\t\t\t\t\t\t\t\t\tJOIN stackoverflow.users u ON u.id = p.user_id\n",
    "\t\t\t\t\t\t\t\t\t\tWHERE date_trunc('month', p.creation_date) :: date = '2008-08-01'\n",
    "\t\t\t\t\t\t\t\t\t\tGROUP BY u.id\n",
    "\t\t\t\t\t\t\t\t\t\tHAVING COUNT(p.id) > 120)\n",
    "GROUP BY p.user_id,\n",
    "\t     p.creation_date :: date) \n",
    "SELECT DISTINCT user_id,\n",
    "\t   AVG(count_posts) OVER (PARTITION BY user_id) AS avg_daily\n",
    "FROM temp_table\n",
    "ORDER BY avg_daily\n",
    "'''\n",
    "\n",
    "avg_dayly_df = pd.read_sql_query(query_5, con=engine) \n",
    "avg_dayly_df"
   ]
  },
  {
   "cell_type": "markdown",
   "metadata": {
    "id": "EQ0dcFH4DWK5"
   },
   "source": [
    "# Запрос 6"
   ]
  },
  {
   "cell_type": "markdown",
   "metadata": {
    "id": "c7flfg_hDWK5"
   },
   "source": [
    "Определить, сколько в среднем дней в период с 1 по 7 декабря 2008 года пользователи взаимодействовали с платформой. Для каждого пользователя отобрать дни, в которые он или она опубликовали хотя бы один пост."
   ]
  },
  {
   "cell_type": "code",
   "execution_count": 13,
   "metadata": {
    "id": "kZ7LXTr6DWK6"
   },
   "outputs": [
    {
     "data": {
      "text/html": [
       "<div>\n",
       "<style scoped>\n",
       "    .dataframe tbody tr th:only-of-type {\n",
       "        vertical-align: middle;\n",
       "    }\n",
       "\n",
       "    .dataframe tbody tr th {\n",
       "        vertical-align: top;\n",
       "    }\n",
       "\n",
       "    .dataframe thead th {\n",
       "        text-align: right;\n",
       "    }\n",
       "</style>\n",
       "<table border=\"1\" class=\"dataframe\">\n",
       "  <thead>\n",
       "    <tr style=\"text-align: right;\">\n",
       "      <th></th>\n",
       "      <th>round</th>\n",
       "    </tr>\n",
       "  </thead>\n",
       "  <tbody>\n",
       "    <tr>\n",
       "      <th>0</th>\n",
       "      <td>2.0</td>\n",
       "    </tr>\n",
       "  </tbody>\n",
       "</table>\n",
       "</div>"
      ],
      "text/plain": [
       "   round\n",
       "0    2.0"
      ]
     },
     "execution_count": 13,
     "metadata": {},
     "output_type": "execute_result"
    }
   ],
   "source": [
    "query_6 = '''\n",
    "WITH temp_table AS (SELECT user_id,\n",
    "\t\t\t\t\t\t   COUNT(DISTINCT creation_date :: date) AS count_days\n",
    "\t\t\t\t\tFROM stackoverflow.posts p \n",
    "\t\t\t\t\tWHERE creation_date :: date >= '2008-12-01' AND creation_date :: date <= '2008-12-07'\n",
    "\t\t\t\t\tGROUP BY user_id)\n",
    "SELECT ROUND(AVG(count_days))\n",
    "FROM temp_table\n",
    "'''\n",
    "\n",
    "avg_df = pd.read_sql_query(query_6, con=engine) \n",
    "avg_df"
   ]
  },
  {
   "cell_type": "markdown",
   "metadata": {
    "id": "LfUuYz-1DWK8"
   },
   "source": [
    "В первую неделю декабря 2008г. пользователи взаимодействовали с платформой, а именно публиковали посты, в среднем, 2 дня. "
   ]
  },
  {
   "cell_type": "markdown",
   "metadata": {
    "id": "wfOmqmfLDWK8"
   },
   "source": [
    "# Запрос 7"
   ]
  },
  {
   "cell_type": "markdown",
   "metadata": {
    "id": "X4ARQimADWK9"
   },
   "source": [
    "Вывести историю активности каждого пользователя в таком виде: идентификатор пользователя, дата публикации поста. Отсортировать вывод по возрастанию идентификаторов пользователей, а для каждого пользователя — по возрастанию даты публикации.\n",
    "\n",
    "Добавить в таблицу новое поле: для каждого поста в нём будет указано название месяца предпоследней публикации пользователя относительно текущей. Если такой публикации нет, указать `NULL`."
   ]
  },
  {
   "cell_type": "code",
   "execution_count": 14,
   "metadata": {
    "id": "HzI1vhaMDWK-"
   },
   "outputs": [
    {
     "data": {
      "text/html": [
       "<div>\n",
       "<style scoped>\n",
       "    .dataframe tbody tr th:only-of-type {\n",
       "        vertical-align: middle;\n",
       "    }\n",
       "\n",
       "    .dataframe tbody tr th {\n",
       "        vertical-align: top;\n",
       "    }\n",
       "\n",
       "    .dataframe thead th {\n",
       "        text-align: right;\n",
       "    }\n",
       "</style>\n",
       "<table border=\"1\" class=\"dataframe\">\n",
       "  <thead>\n",
       "    <tr style=\"text-align: right;\">\n",
       "      <th></th>\n",
       "      <th>user_id</th>\n",
       "      <th>creation_date</th>\n",
       "      <th>lag</th>\n",
       "    </tr>\n",
       "  </thead>\n",
       "  <tbody>\n",
       "    <tr>\n",
       "      <th>0</th>\n",
       "      <td>1</td>\n",
       "      <td>2008-07-31 23:41:00</td>\n",
       "      <td>None</td>\n",
       "    </tr>\n",
       "    <tr>\n",
       "      <th>1</th>\n",
       "      <td>1</td>\n",
       "      <td>2008-07-31 23:55:38</td>\n",
       "      <td>None</td>\n",
       "    </tr>\n",
       "    <tr>\n",
       "      <th>2</th>\n",
       "      <td>1</td>\n",
       "      <td>2008-07-31 23:56:41</td>\n",
       "      <td>July</td>\n",
       "    </tr>\n",
       "    <tr>\n",
       "      <th>3</th>\n",
       "      <td>1</td>\n",
       "      <td>2008-08-04 02:45:08</td>\n",
       "      <td>July</td>\n",
       "    </tr>\n",
       "    <tr>\n",
       "      <th>4</th>\n",
       "      <td>1</td>\n",
       "      <td>2008-08-04 04:31:03</td>\n",
       "      <td>July</td>\n",
       "    </tr>\n",
       "    <tr>\n",
       "      <th>5</th>\n",
       "      <td>1</td>\n",
       "      <td>2008-08-04 08:04:42</td>\n",
       "      <td>August</td>\n",
       "    </tr>\n",
       "    <tr>\n",
       "      <th>6</th>\n",
       "      <td>1</td>\n",
       "      <td>2008-08-10 08:28:52</td>\n",
       "      <td>August</td>\n",
       "    </tr>\n",
       "    <tr>\n",
       "      <th>7</th>\n",
       "      <td>1</td>\n",
       "      <td>2008-08-11 19:23:47</td>\n",
       "      <td>August</td>\n",
       "    </tr>\n",
       "    <tr>\n",
       "      <th>8</th>\n",
       "      <td>1</td>\n",
       "      <td>2008-08-12 00:30:43</td>\n",
       "      <td>August</td>\n",
       "    </tr>\n",
       "    <tr>\n",
       "      <th>9</th>\n",
       "      <td>1</td>\n",
       "      <td>2008-08-12 04:59:35</td>\n",
       "      <td>August</td>\n",
       "    </tr>\n",
       "  </tbody>\n",
       "</table>\n",
       "</div>"
      ],
      "text/plain": [
       "   user_id       creation_date        lag\n",
       "0        1 2008-07-31 23:41:00       None\n",
       "1        1 2008-07-31 23:55:38       None\n",
       "2        1 2008-07-31 23:56:41  July     \n",
       "3        1 2008-08-04 02:45:08  July     \n",
       "4        1 2008-08-04 04:31:03  July     \n",
       "5        1 2008-08-04 08:04:42  August   \n",
       "6        1 2008-08-10 08:28:52  August   \n",
       "7        1 2008-08-11 19:23:47  August   \n",
       "8        1 2008-08-12 00:30:43  August   \n",
       "9        1 2008-08-12 04:59:35  August   "
      ]
     },
     "execution_count": 14,
     "metadata": {},
     "output_type": "execute_result"
    }
   ],
   "source": [
    "query_7 = '''\n",
    "SELECT user_id,\n",
    "\t   creation_date,\n",
    "\t   LAG(name_of_month, 2, NULL) OVER (PARTITION BY user_id ORDER BY creation_date)\n",
    "FROM \n",
    "        (SELECT user_id,\n",
    "               creation_date,\n",
    "               TO_CHAR(creation_date, 'Month') AS name_of_month\n",
    "        FROM stackoverflow.posts \n",
    "        ORDER BY user_id,\n",
    "                 creation_date) temp_table\n",
    "'''\n",
    "\n",
    "active_story_df = pd.read_sql_query(query_7, con=engine) \n",
    "active_story_df.head(10)"
   ]
  },
  {
   "cell_type": "markdown",
   "metadata": {
    "id": "tf9qq2yzDWK_"
   },
   "source": [
    "# Запрос 8"
   ]
  },
  {
   "cell_type": "markdown",
   "metadata": {
    "id": "gfwLVXBYDWLA"
   },
   "source": [
    "Рассчитать аналог Retention Rate по месяцам для пользователей StackOverflow. Объединить пользователей в когорты по месяцу их первого поста. Возвращение определить по наличию поста в текущем месяце. "
   ]
  },
  {
   "cell_type": "code",
   "execution_count": 15,
   "metadata": {
    "id": "LUgFmwmTDWLB"
   },
   "outputs": [
    {
     "data": {
      "text/html": [
       "<div>\n",
       "<style scoped>\n",
       "    .dataframe tbody tr th:only-of-type {\n",
       "        vertical-align: middle;\n",
       "    }\n",
       "\n",
       "    .dataframe tbody tr th {\n",
       "        vertical-align: top;\n",
       "    }\n",
       "\n",
       "    .dataframe thead th {\n",
       "        text-align: right;\n",
       "    }\n",
       "</style>\n",
       "<table border=\"1\" class=\"dataframe\">\n",
       "  <thead>\n",
       "    <tr style=\"text-align: right;\">\n",
       "      <th></th>\n",
       "      <th>cohort_dt</th>\n",
       "      <th>session_date</th>\n",
       "      <th>users_cnt</th>\n",
       "      <th>cohort_size</th>\n",
       "      <th>retention_rate</th>\n",
       "    </tr>\n",
       "  </thead>\n",
       "  <tbody>\n",
       "    <tr>\n",
       "      <th>0</th>\n",
       "      <td>2008-07-01</td>\n",
       "      <td>2008-07-01</td>\n",
       "      <td>3</td>\n",
       "      <td>3</td>\n",
       "      <td>100.00</td>\n",
       "    </tr>\n",
       "    <tr>\n",
       "      <th>1</th>\n",
       "      <td>2008-07-01</td>\n",
       "      <td>2008-08-01</td>\n",
       "      <td>2</td>\n",
       "      <td>3</td>\n",
       "      <td>66.67</td>\n",
       "    </tr>\n",
       "    <tr>\n",
       "      <th>2</th>\n",
       "      <td>2008-07-01</td>\n",
       "      <td>2008-09-01</td>\n",
       "      <td>1</td>\n",
       "      <td>3</td>\n",
       "      <td>33.33</td>\n",
       "    </tr>\n",
       "    <tr>\n",
       "      <th>3</th>\n",
       "      <td>2008-07-01</td>\n",
       "      <td>2008-10-01</td>\n",
       "      <td>2</td>\n",
       "      <td>3</td>\n",
       "      <td>66.67</td>\n",
       "    </tr>\n",
       "    <tr>\n",
       "      <th>4</th>\n",
       "      <td>2008-07-01</td>\n",
       "      <td>2008-11-01</td>\n",
       "      <td>1</td>\n",
       "      <td>3</td>\n",
       "      <td>33.33</td>\n",
       "    </tr>\n",
       "    <tr>\n",
       "      <th>5</th>\n",
       "      <td>2008-07-01</td>\n",
       "      <td>2008-12-01</td>\n",
       "      <td>2</td>\n",
       "      <td>3</td>\n",
       "      <td>66.67</td>\n",
       "    </tr>\n",
       "    <tr>\n",
       "      <th>6</th>\n",
       "      <td>2008-08-01</td>\n",
       "      <td>2008-08-01</td>\n",
       "      <td>2151</td>\n",
       "      <td>2151</td>\n",
       "      <td>100.00</td>\n",
       "    </tr>\n",
       "    <tr>\n",
       "      <th>7</th>\n",
       "      <td>2008-08-01</td>\n",
       "      <td>2008-09-01</td>\n",
       "      <td>1571</td>\n",
       "      <td>2151</td>\n",
       "      <td>73.04</td>\n",
       "    </tr>\n",
       "    <tr>\n",
       "      <th>8</th>\n",
       "      <td>2008-08-01</td>\n",
       "      <td>2008-10-01</td>\n",
       "      <td>1275</td>\n",
       "      <td>2151</td>\n",
       "      <td>59.27</td>\n",
       "    </tr>\n",
       "    <tr>\n",
       "      <th>9</th>\n",
       "      <td>2008-08-01</td>\n",
       "      <td>2008-11-01</td>\n",
       "      <td>1050</td>\n",
       "      <td>2151</td>\n",
       "      <td>48.81</td>\n",
       "    </tr>\n",
       "    <tr>\n",
       "      <th>10</th>\n",
       "      <td>2008-08-01</td>\n",
       "      <td>2008-12-01</td>\n",
       "      <td>894</td>\n",
       "      <td>2151</td>\n",
       "      <td>41.56</td>\n",
       "    </tr>\n",
       "    <tr>\n",
       "      <th>11</th>\n",
       "      <td>2008-09-01</td>\n",
       "      <td>2008-09-01</td>\n",
       "      <td>7678</td>\n",
       "      <td>7678</td>\n",
       "      <td>100.00</td>\n",
       "    </tr>\n",
       "    <tr>\n",
       "      <th>12</th>\n",
       "      <td>2008-09-01</td>\n",
       "      <td>2008-10-01</td>\n",
       "      <td>4132</td>\n",
       "      <td>7678</td>\n",
       "      <td>53.82</td>\n",
       "    </tr>\n",
       "    <tr>\n",
       "      <th>13</th>\n",
       "      <td>2008-09-01</td>\n",
       "      <td>2008-11-01</td>\n",
       "      <td>2966</td>\n",
       "      <td>7678</td>\n",
       "      <td>38.63</td>\n",
       "    </tr>\n",
       "    <tr>\n",
       "      <th>14</th>\n",
       "      <td>2008-09-01</td>\n",
       "      <td>2008-12-01</td>\n",
       "      <td>2500</td>\n",
       "      <td>7678</td>\n",
       "      <td>32.56</td>\n",
       "    </tr>\n",
       "    <tr>\n",
       "      <th>15</th>\n",
       "      <td>2008-10-01</td>\n",
       "      <td>2008-10-01</td>\n",
       "      <td>3629</td>\n",
       "      <td>3629</td>\n",
       "      <td>100.00</td>\n",
       "    </tr>\n",
       "    <tr>\n",
       "      <th>16</th>\n",
       "      <td>2008-10-01</td>\n",
       "      <td>2008-11-01</td>\n",
       "      <td>1640</td>\n",
       "      <td>3629</td>\n",
       "      <td>45.19</td>\n",
       "    </tr>\n",
       "    <tr>\n",
       "      <th>17</th>\n",
       "      <td>2008-10-01</td>\n",
       "      <td>2008-12-01</td>\n",
       "      <td>1221</td>\n",
       "      <td>3629</td>\n",
       "      <td>33.65</td>\n",
       "    </tr>\n",
       "    <tr>\n",
       "      <th>18</th>\n",
       "      <td>2008-11-01</td>\n",
       "      <td>2008-11-01</td>\n",
       "      <td>2852</td>\n",
       "      <td>2852</td>\n",
       "      <td>100.00</td>\n",
       "    </tr>\n",
       "    <tr>\n",
       "      <th>19</th>\n",
       "      <td>2008-11-01</td>\n",
       "      <td>2008-12-01</td>\n",
       "      <td>1151</td>\n",
       "      <td>2852</td>\n",
       "      <td>40.36</td>\n",
       "    </tr>\n",
       "    <tr>\n",
       "      <th>20</th>\n",
       "      <td>2008-12-01</td>\n",
       "      <td>2008-12-01</td>\n",
       "      <td>2536</td>\n",
       "      <td>2536</td>\n",
       "      <td>100.00</td>\n",
       "    </tr>\n",
       "  </tbody>\n",
       "</table>\n",
       "</div>"
      ],
      "text/plain": [
       "     cohort_dt session_date  users_cnt  cohort_size  retention_rate\n",
       "0   2008-07-01   2008-07-01          3            3          100.00\n",
       "1   2008-07-01   2008-08-01          2            3           66.67\n",
       "2   2008-07-01   2008-09-01          1            3           33.33\n",
       "3   2008-07-01   2008-10-01          2            3           66.67\n",
       "4   2008-07-01   2008-11-01          1            3           33.33\n",
       "5   2008-07-01   2008-12-01          2            3           66.67\n",
       "6   2008-08-01   2008-08-01       2151         2151          100.00\n",
       "7   2008-08-01   2008-09-01       1571         2151           73.04\n",
       "8   2008-08-01   2008-10-01       1275         2151           59.27\n",
       "9   2008-08-01   2008-11-01       1050         2151           48.81\n",
       "10  2008-08-01   2008-12-01        894         2151           41.56\n",
       "11  2008-09-01   2008-09-01       7678         7678          100.00\n",
       "12  2008-09-01   2008-10-01       4132         7678           53.82\n",
       "13  2008-09-01   2008-11-01       2966         7678           38.63\n",
       "14  2008-09-01   2008-12-01       2500         7678           32.56\n",
       "15  2008-10-01   2008-10-01       3629         3629          100.00\n",
       "16  2008-10-01   2008-11-01       1640         3629           45.19\n",
       "17  2008-10-01   2008-12-01       1221         3629           33.65\n",
       "18  2008-11-01   2008-11-01       2852         2852          100.00\n",
       "19  2008-11-01   2008-12-01       1151         2852           40.36\n",
       "20  2008-12-01   2008-12-01       2536         2536          100.00"
      ]
     },
     "execution_count": 15,
     "metadata": {},
     "output_type": "execute_result"
    }
   ],
   "source": [
    "query_8 = '''\n",
    "WITH first_ts_table AS (SELECT  DISTINCT user_id,\n",
    "\t\t\t\t\t\t\t\t\t\t MIN(DATE_TRUNC('month', creation_date) :: date) OVER (PARTITION BY user_id) AS first_ts\n",
    "\t\t\t\t\t\tFROM stackoverflow.posts),\n",
    "\t profile AS (SELECT \tuser_id,\n",
    "\t\t\t\t\t\t\tfirst_ts,\n",
    "\t\t\t\t\t\t\tCOUNT(user_id) OVER (PARTITION BY first_ts) AS cohort_size\n",
    "\t\t\t\t FROM first_ts_table),\n",
    "\t sessions AS (SELECT user_id,\n",
    "\t\t       \t\t\t DATE_TRUNC('month', creation_date) :: date AS session_date\n",
    "\t\t\t\t  FROM stackoverflow.posts\n",
    "\t\t\t\t  GROUP BY 1,\n",
    "\t\t\t\t\t       2)\n",
    "SELECT p.first_ts AS cohort_dt,\n",
    "       s.session_date,\n",
    "       COUNT(p.user_id) AS users_cnt,\n",
    "       cohort_size,\n",
    "       ROUND(COUNT(p.user_id) * 100.0 / cohort_size, 2) AS retention_rate\n",
    "FROM profile p\n",
    "JOIN sessions s ON p.user_id = s.user_id\n",
    "GROUP BY 1,\n",
    "         2,\n",
    "         4\n",
    "'''\n",
    "\n",
    "retention_rate_df = pd.read_sql_query(query_8, con=engine) \n",
    "retention_rate_df"
   ]
  },
  {
   "cell_type": "code",
   "execution_count": 16,
   "metadata": {
    "id": "qAEJc8H1DWLC"
   },
   "outputs": [
    {
     "data": {
      "image/png": "[encoded data removed]",
      "text/plain": [
       "<Figure size 1152x1152 with 2 Axes>"
      ]
     },
     "metadata": {},
     "output_type": "display_data"
    }
   ],
   "source": [
    "# создаём сводную таблицу с результатами\n",
    "retention = retention_rate_df.pivot('cohort_dt', 'session_date', 'retention_rate')\n",
    "retention.index = [str(x)[0:10] for x in retention.index]\n",
    "retention.columns = [str(x)[0:10] for x in retention.columns]\n",
    "\n",
    "plt.figure(figsize=(16, 16))\n",
    "sns.heatmap(retention, \n",
    "            annot=True, \n",
    "            fmt='') \n",
    "plt.title('Тепловая карта')\n",
    "plt.xlabel('Дата сессии')\n",
    "plt.ylabel('Дата когорты')\n",
    "plt.show() "
   ]
  },
  {
   "cell_type": "markdown",
   "metadata": {
    "id": "EgOfIsI4DWLC"
   },
   "source": [
    "В когорте от июля  2008г. показатель удержания пользователей скачет вверх-вниз. Это связано с тем, что в когорте всего 3 пользователя - выборка не показательна (какой-то пользователь периодически возвращается к написанию постов, что вполне нормально). Высокое удержание первого дня (> 70%) показала августовская когорта, в сентябрьской когорте тоже неплохой показатель в 1-ый день (> 50%). Самое низкое значение удержания первого дня в ноябрьской когорте (40%). "
   ]
  },
  {
   "cell_type": "markdown",
   "metadata": {
    "id": "1k7oPWt5DWLK"
   },
   "source": [
    "# Запрос 9\n"
   ]
  },
  {
   "cell_type": "markdown",
   "metadata": {
    "id": "ALsYVSyRDWLM"
   },
   "source": [
    "Определить, на сколько процентов менялось количество постов ежемесячно с 1 сентября по 31 декабря 2008 года. Отобразить таблицу со следующими полями:\n",
    "\n",
    "- номер месяца;\n",
    "- количество постов за месяц;\n",
    "- процент, который показывает, насколько изменилось количество постов в текущем месяце по сравнению с предыдущим.\n",
    "\n",
    "Округлить значение процента до двух знаков после запятой."
   ]
  },
  {
   "cell_type": "code",
   "execution_count": 17,
   "metadata": {
    "id": "Mb5pShStDWLN"
   },
   "outputs": [
    {
     "data": {
      "text/html": [
       "<div>\n",
       "<style scoped>\n",
       "    .dataframe tbody tr th:only-of-type {\n",
       "        vertical-align: middle;\n",
       "    }\n",
       "\n",
       "    .dataframe tbody tr th {\n",
       "        vertical-align: top;\n",
       "    }\n",
       "\n",
       "    .dataframe thead th {\n",
       "        text-align: right;\n",
       "    }\n",
       "</style>\n",
       "<table border=\"1\" class=\"dataframe\">\n",
       "  <thead>\n",
       "    <tr style=\"text-align: right;\">\n",
       "      <th></th>\n",
       "      <th>creation_month</th>\n",
       "      <th>posts_count</th>\n",
       "      <th>percentage</th>\n",
       "    </tr>\n",
       "  </thead>\n",
       "  <tbody>\n",
       "    <tr>\n",
       "      <th>0</th>\n",
       "      <td>9</td>\n",
       "      <td>70371</td>\n",
       "      <td>NaN</td>\n",
       "    </tr>\n",
       "    <tr>\n",
       "      <th>1</th>\n",
       "      <td>10</td>\n",
       "      <td>63102</td>\n",
       "      <td>-10.33</td>\n",
       "    </tr>\n",
       "    <tr>\n",
       "      <th>2</th>\n",
       "      <td>11</td>\n",
       "      <td>46975</td>\n",
       "      <td>-25.56</td>\n",
       "    </tr>\n",
       "    <tr>\n",
       "      <th>3</th>\n",
       "      <td>12</td>\n",
       "      <td>44592</td>\n",
       "      <td>-5.07</td>\n",
       "    </tr>\n",
       "  </tbody>\n",
       "</table>\n",
       "</div>"
      ],
      "text/plain": [
       "   creation_month  posts_count  percentage\n",
       "0               9        70371         NaN\n",
       "1              10        63102      -10.33\n",
       "2              11        46975      -25.56\n",
       "3              12        44592       -5.07"
      ]
     },
     "execution_count": 17,
     "metadata": {},
     "output_type": "execute_result"
    }
   ],
   "source": [
    "query_9 = '''\n",
    "WITH temp_table AS (SELECT DISTINCT EXTRACT (MONTH FROM creation_date :: date) AS creation_month,\n",
    "\t\t\t\t\t\t\tCOUNT(id) AS posts_count\n",
    "\t\t\t\t\tFROM stackoverflow.posts p \n",
    "\t\t\t\t\tWHERE creation_date :: date >= '2008-09-01' AND \n",
    "\t\t\t\t\t\t  creation_date :: date <= '2008-12-31' \n",
    "\t\t\t\t\tGROUP BY EXTRACT (MONTH FROM creation_date :: date))\n",
    "SELECT  creation_month :: int4,\n",
    "\t\tposts_count,\n",
    "\t\tROUND(((posts_count::numeric / LAG(posts_count) OVER (ORDER BY creation_month)) - 1) * 100, 2) AS percentage\n",
    "FROM temp_table\t\n",
    "'''\n",
    "\n",
    "percentage_df = pd.read_sql_query(query_9, con=engine) \n",
    "percentage_df"
   ]
  },
  {
   "cell_type": "markdown",
   "metadata": {
    "id": "9NQE2y_MDWLP"
   },
   "source": [
    "Круговая диаграмма с количеством постов по месяцам:"
   ]
  },
  {
   "cell_type": "code",
   "execution_count": 18,
   "metadata": {
    "id": "377ABjiVDWLP"
   },
   "outputs": [
    {
     "data": {
      "image/png": "[encoded data removed]",
      "text/plain": [
       "<Figure size 576x576 with 1 Axes>"
      ]
     },
     "metadata": {},
     "output_type": "display_data"
    }
   ],
   "source": [
    "plt.figure(figsize = (8, 8))\n",
    "plt.pie(percentage_df['posts_count'], \n",
    "        labels=['Сентябрь', 'Октябрь', 'Ноябрь', 'Декабрь'],\n",
    "        autopct='%.0f%%')\n",
    "plt.title('Количество постов с сентября по декабрь 2008г.')\n",
    "plt.show()"
   ]
  },
  {
   "cell_type": "markdown",
   "metadata": {},
   "source": [
    "Больше всего постов было создано в сентябре - более 70 тыс., в октябре количество постов снизилось до 63 тыс. (-10%). В ноябре активность пользователей резко снизилась до 47 тыс. (-25%), в декабре до 44,5 тыс. (-5%)."
   ]
  },
  {
   "cell_type": "markdown",
   "metadata": {
    "id": "uw7qMtafDWLP"
   },
   "source": [
    "# Запрос 10"
   ]
  },
  {
   "cell_type": "markdown",
   "metadata": {
    "id": "oRBpWKx3DWLQ"
   },
   "source": [
    "Выгрузить данные активности пользователя, который опубликовал больше всего постов за всё время. Вывести данные за октябрь 2008 года в следующем виде:\n",
    "\n",
    "- номер недели;\n",
    "- дата и время последнего поста, опубликованного на этой неделе."
   ]
  },
  {
   "cell_type": "code",
   "execution_count": 19,
   "metadata": {
    "id": "r5F5fSkwDWLQ"
   },
   "outputs": [
    {
     "data": {
      "text/html": [
       "<div>\n",
       "<style scoped>\n",
       "    .dataframe tbody tr th:only-of-type {\n",
       "        vertical-align: middle;\n",
       "    }\n",
       "\n",
       "    .dataframe tbody tr th {\n",
       "        vertical-align: top;\n",
       "    }\n",
       "\n",
       "    .dataframe thead th {\n",
       "        text-align: right;\n",
       "    }\n",
       "</style>\n",
       "<table border=\"1\" class=\"dataframe\">\n",
       "  <thead>\n",
       "    <tr style=\"text-align: right;\">\n",
       "      <th></th>\n",
       "      <th>week_number</th>\n",
       "      <th>last_value</th>\n",
       "    </tr>\n",
       "  </thead>\n",
       "  <tbody>\n",
       "    <tr>\n",
       "      <th>0</th>\n",
       "      <td>40</td>\n",
       "      <td>2008-10-05 09:00:58</td>\n",
       "    </tr>\n",
       "    <tr>\n",
       "      <th>1</th>\n",
       "      <td>41</td>\n",
       "      <td>2008-10-12 21:22:23</td>\n",
       "    </tr>\n",
       "    <tr>\n",
       "      <th>2</th>\n",
       "      <td>42</td>\n",
       "      <td>2008-10-19 06:49:30</td>\n",
       "    </tr>\n",
       "    <tr>\n",
       "      <th>3</th>\n",
       "      <td>43</td>\n",
       "      <td>2008-10-26 21:44:36</td>\n",
       "    </tr>\n",
       "    <tr>\n",
       "      <th>4</th>\n",
       "      <td>44</td>\n",
       "      <td>2008-10-31 22:16:01</td>\n",
       "    </tr>\n",
       "  </tbody>\n",
       "</table>\n",
       "</div>"
      ],
      "text/plain": [
       "   week_number          last_value\n",
       "0           40 2008-10-05 09:00:58\n",
       "1           41 2008-10-12 21:22:23\n",
       "2           42 2008-10-19 06:49:30\n",
       "3           43 2008-10-26 21:44:36\n",
       "4           44 2008-10-31 22:16:01"
      ]
     },
     "execution_count": 19,
     "metadata": {},
     "output_type": "execute_result"
    }
   ],
   "source": [
    "query_10 = '''\n",
    "WITH table_count_posts AS (SELECT DISTINCT p.user_id,\n",
    "\t   \t\t\t\t\t\t\t  COUNT(p.id) AS count_posts\n",
    "\t\t\t\t\t\t   FROM stackoverflow.posts p\n",
    "\t\t\t\t\t\t   GROUP BY p.user_id),\n",
    "\t table_user_id AS (SELECT user_id\n",
    "\t\t\t\t\t   FROM table_count_posts\n",
    "\t\t\t\t\t   WHERE count_posts = (SELECT max(count_posts)\n",
    "\t\t\t   \t\t\t\t\t\t\t   FROM table_count_posts)),\n",
    "\t table_week  AS  (SELECT creation_date,\n",
    "\t\t\t\t\t\t     EXTRACT(WEEK FROM creation_date) AS week_number\n",
    "\t\t\t\t\t  FROM stackoverflow.posts p\n",
    "\t\t\t\t\t  WHERE user_id = (SELECT user_id\n",
    "\t\t\t\t\t\t\t\t\t  FROM table_count_posts\n",
    "\t\t\t\t\t\t\t\t\t  WHERE count_posts = (SELECT max(count_posts)\n",
    "\t\t\t\t\t\t\t   \t\t\t\t\t\t\t   FROM table_count_posts)) AND \n",
    "\t\t\t\t\t\t\t   \t\t\t    DATE_TRUNC('month', creation_date) :: date = '2008-10-01')\n",
    "SELECT DISTINCT week_number :: int4,\n",
    "\t   LAST_VALUE(creation_date) OVER (PARTITION BY week_number ORDER BY creation_date ROWS BETWEEN UNBOUNDED PRECEDING AND UNBOUNDED FOLLOWING)\n",
    "FROM table_week\n",
    "ORDER BY week_number\n",
    "'''\n",
    "\n",
    "active_user_df = pd.read_sql_query(query_10, con=engine) \n",
    "active_user_df"
   ]
  }
 ],
 "metadata": {
  "ExecuteTimeLog": [
   {
    "duration": 1229,
    "start_time": "2023-03-13T12:17:02.263Z"
   },
   {
    "duration": 3,
    "start_time": "2023-03-13T12:17:03.495Z"
   },
   {
    "duration": 9467,
    "start_time": "2023-03-13T12:17:03.500Z"
   },
   {
    "duration": 198,
    "start_time": "2023-03-13T12:17:12.969Z"
   },
   {
    "duration": 14,
    "start_time": "2023-03-13T12:17:13.168Z"
   },
   {
    "duration": 256,
    "start_time": "2023-03-13T12:17:13.184Z"
   },
   {
    "duration": 304,
    "start_time": "2023-03-13T12:17:13.442Z"
   },
   {
    "duration": 176,
    "start_time": "2023-03-13T12:17:13.748Z"
   },
   {
    "duration": 31736,
    "start_time": "2023-03-13T12:17:13.926Z"
   },
   {
    "duration": 272,
    "start_time": "2023-03-13T12:17:45.663Z"
   },
   {
    "duration": 1195,
    "start_time": "2023-03-13T12:17:45.937Z"
   },
   {
    "duration": 95,
    "start_time": "2023-03-13T12:17:47.133Z"
   },
   {
    "duration": 59,
    "start_time": "2023-03-13T12:17:47.230Z"
   },
   {
    "duration": 1094,
    "start_time": "2023-03-13T12:17:47.291Z"
   },
   {
    "duration": 479,
    "start_time": "2023-03-13T12:17:48.387Z"
   },
   {
    "duration": 425,
    "start_time": "2023-03-13T12:17:48.867Z"
   },
   {
    "duration": 89,
    "start_time": "2023-03-13T12:17:49.294Z"
   },
   {
    "duration": 96,
    "start_time": "2023-03-13T12:17:49.385Z"
   },
   {
    "duration": 129,
    "start_time": "2023-03-13T12:17:49.483Z"
   },
   {
    "duration": 8,
    "start_time": "2023-03-13T12:23:43.418Z"
   },
   {
    "duration": 7,
    "start_time": "2023-03-13T12:23:50.099Z"
   }
  ],
  "colab": {
   "provenance": []
  },
  "kernelspec": {
   "display_name": "Python 3 (ipykernel)",
   "language": "python",
   "name": "python3"
  },
  "language_info": {
   "codemirror_mode": {
    "name": "ipython",
    "version": 3
   },
   "file_extension": ".py",
   "mimetype": "text/x-python",
   "name": "python",
   "nbconvert_exporter": "python",
   "pygments_lexer": "ipython3",
   "version": "3.9.12"
  },
  "toc": {
   "base_numbering": 1,
   "nav_menu": {},
   "number_sections": false,
   "sideBar": true,
   "skip_h1_title": false,
   "title_cell": "Table of Contents",
   "title_sidebar": "Contents",
   "toc_cell": false,
   "toc_position": {
    "height": "calc(100% - 180px)",
    "left": "10px",
    "top": "150px",
    "width": "165px"
   },
   "toc_section_display": true,
   "toc_window_display": false
  }
 },
 "nbformat": 4,
 "nbformat_minor": 1
}
